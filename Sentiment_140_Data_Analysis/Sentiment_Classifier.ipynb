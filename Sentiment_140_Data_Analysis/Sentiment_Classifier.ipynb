{
 "cells": [
  {
   "cell_type": "markdown",
   "metadata": {
    "colab_type": "text",
    "id": "b39xHmYHadow"
   },
   "source": [
    "# Sentiment Classifier of Sentiment140"
   ]
  },
  {
   "cell_type": "markdown",
   "metadata": {
    "colab_type": "text",
    "id": "0Yp-ELGjanxx"
   },
   "source": [
    "### Load Data"
   ]
  },
  {
   "cell_type": "code",
   "execution_count": 1,
   "metadata": {
    "colab": {
     "base_uri": "https://localhost:8080/",
     "height": 202
    },
    "colab_type": "code",
    "executionInfo": {
     "elapsed": 9362,
     "status": "ok",
     "timestamp": 1584639957835,
     "user": {
      "displayName": "Vlad Ionescu",
      "photoUrl": "https://lh3.googleusercontent.com/a-/AOh14GjVqUFXyH8WAbuvl0SYKBl3LOPFGl-6BoDr9QnUxQ=s64",
      "userId": "05046943932183883109"
     },
     "user_tz": -120
    },
    "id": "5m3hbUcZaayJ",
    "outputId": "9813dffc-4482-4ee6-a691-78d2a7e64b7f"
   },
   "outputs": [],
   "source": [
    "import pandas as pd"
   ]
  },
  {
   "cell_type": "code",
   "execution_count": 7,
   "metadata": {},
   "outputs": [],
   "source": [
    "data = pd.read_csv('./data/training.1600000.processed.noemoticon.csv', \n",
    "                   header=None)\n",
    "data = data.sample(frac=1) "
   ]
  },
  {
   "cell_type": "code",
   "execution_count": 0,
   "metadata": {
    "colab": {},
    "colab_type": "code",
    "id": "wqy3065EsJYz"
   },
   "outputs": [],
   "source": [
    "# train-test split\n",
    "train_size = int(0.7*len(data))\n",
    "features = data[5]\n",
    "targets = data[0]\n",
    "X_train, X_test = features.values[:train_size], features.values[train_size:]\n",
    "y_train, y_test = targets.values[:train_size], targets.values[train_size:]\n",
    "\n",
    "y_train[y_train==2] = 1\n",
    "y_train[y_train==4] = 2\n",
    "\n",
    "y_test[y_test==2] = 1\n",
    "y_test[y_test==4] = 2"
   ]
  },
  {
   "cell_type": "markdown",
   "metadata": {},
   "source": [
    "### Data Preprocessing"
   ]
  },
  {
   "cell_type": "code",
   "execution_count": 0,
   "metadata": {
    "colab": {},
    "colab_type": "code",
    "id": "iimcdFJYikQi"
   },
   "outputs": [],
   "source": [
    "from sklearn.feature_extraction.text import CountVectorizer\n",
    "\n",
    "count_vectorizer = CountVectorizer(max_features=100)\n",
    "X_train_num = count_vectorizer.fit_transform(X_train).toarray()\n",
    "X_test_num = count_vectorizer.transform(X_test).toarray()"
   ]
  },
  {
   "cell_type": "code",
   "execution_count": 23,
   "metadata": {
    "colab": {
     "base_uri": "https://localhost:8080/",
     "height": 87
    },
    "colab_type": "code",
    "executionInfo": {
     "elapsed": 598,
     "status": "ok",
     "timestamp": 1584640920780,
     "user": {
      "displayName": "Vlad Ionescu",
      "photoUrl": "https://lh3.googleusercontent.com/a-/AOh14GjVqUFXyH8WAbuvl0SYKBl3LOPFGl-6BoDr9QnUxQ=s64",
      "userId": "05046943932183883109"
     },
     "user_tz": -120
    },
    "id": "WLDOHpEDlqLl",
    "outputId": "8f345ae8-d030-4fb2-8990-51720bb0a3b2"
   },
   "outputs": [
    {
     "name": "stdout",
     "output_type": "stream",
     "text": [
      "I ran outta bathroom passes.  maybe mrs. French will be nice today?\n",
      "[0 0 0 0 0 0 0 0 0 0 1 0 0 0 0 0 0 0 0 0 0 0 0 0 0 0 0 0 0 0 0 0 0 0 0 0 0\n",
      " 0 0 0 0 0 0 0 0 0 0 0 0 0 0 0 0 0 0 0 0 0 0 0 0 0 0 0 0 0 0 0 0 0 0 0 0 0\n",
      " 0 0 0 0 0 0 0 0 0 0 1 0 0 0 0 0 0 0 0 0 0 1 0 0 0 0]\n"
     ]
    }
   ],
   "source": [
    "instance = 46544\n",
    "print(X_train[instance])\n",
    "print(X_train_num[instance])"
   ]
  },
  {
   "cell_type": "markdown",
   "metadata": {
    "colab_type": "text",
    "id": "jRMYdnCD0Ly9"
   },
   "source": [
    "### Text classifier"
   ]
  },
  {
   "cell_type": "code",
   "execution_count": 22,
   "metadata": {
    "colab": {
     "base_uri": "https://localhost:8080/",
     "height": 139
    },
    "colab_type": "code",
    "executionInfo": {
     "elapsed": 87072,
     "status": "ok",
     "timestamp": 1584640681489,
     "user": {
      "displayName": "Vlad Ionescu",
      "photoUrl": "https://lh3.googleusercontent.com/a-/AOh14GjVqUFXyH8WAbuvl0SYKBl3LOPFGl-6BoDr9QnUxQ=s64",
      "userId": "05046943932183883109"
     },
     "user_tz": -120
    },
    "id": "yO6WmVDE0Qea",
    "outputId": "342f413a-cb02-4ea1-ad7b-9598745ffaac"
   },
   "outputs": [
    {
     "name": "stdout",
     "output_type": "stream",
     "text": [
      "[0 2 2 ... 2 0 0]\n",
      "Train on 1008000 samples, validate on 112000 samples\n",
      "Epoch 1/2\n",
      "1008000/1008000 [==============================] - 43s 43us/sample - loss: 0.6168 - accuracy: 0.6578 - val_loss: 0.6042 - val_accuracy: 0.6704\n",
      "Epoch 2/2\n",
      "1008000/1008000 [==============================] - 43s 43us/sample - loss: 0.6095 - accuracy: 0.6638 - val_loss: 0.6022 - val_accuracy: 0.6719\n"
     ]
    },
    {
     "data": {
      "text/plain": [
       "<tensorflow.python.keras.callbacks.History at 0x7fdb7d2238d0>"
      ]
     },
     "execution_count": 22,
     "metadata": {
      "tags": []
     },
     "output_type": "execute_result"
    }
   ],
   "source": [
    "import tensorflow as tf\n",
    "from sklearn.preprocessing import StandardScaler\n",
    "\n",
    "model = tf.keras.models.Sequential([\n",
    "    tf.keras.layers.Dense(256, activation=tf.nn.leaky_relu), \n",
    "    tf.keras.layers.Dropout(0.5),\n",
    "    tf.keras.layers.Dense(3)\n",
    "])\n",
    "\n",
    "adam_optimizer = tf.keras.optimizers.Adam()\n",
    "model.compile(\n",
    "    optimizer=adam_optimizer,\n",
    "    loss=tf.keras.losses.SparseCategoricalCrossentropy(from_logits=True),\n",
    "    metrics=[\n",
    "      'accuracy',\n",
    "    ]\n",
    ")\n",
    "\n",
    "print(y_train)\n",
    "model.fit(X_train_num, \n",
    "          y_train,\n",
    "          batch_size=64,\n",
    "          epochs=2,\n",
    "          validation_split=0.1,\n",
    "          verbose=1)"
   ]
  },
  {
   "cell_type": "code",
   "execution_count": 0,
   "metadata": {
    "colab": {},
    "colab_type": "code",
    "id": "gOMUf2HmmW0c"
   },
   "outputs": [],
   "source": []
  }
 ],
 "metadata": {
  "colab": {
   "authorship_tag": "ABX9TyP7aBYDHfCL4kc9wB3+opWz",
   "collapsed_sections": [],
   "name": "Video 3.3.ipynb",
   "provenance": []
  },
  "kernelspec": {
   "display_name": "Python 3",
   "language": "python",
   "name": "python3"
  },
  "language_info": {
   "codemirror_mode": {
    "name": "ipython",
    "version": 3
   },
   "file_extension": ".py",
   "mimetype": "text/x-python",
   "name": "python",
   "nbconvert_exporter": "python",
   "pygments_lexer": "ipython3",
   "version": "3.8.8"
  }
 },
 "nbformat": 4,
 "nbformat_minor": 1
}
