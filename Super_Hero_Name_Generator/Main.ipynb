{
 "cells": [
  {
   "cell_type": "markdown",
   "id": "suited-characteristic",
   "metadata": {},
   "source": [
    "# Superhero and Supervillain Name Generator"
   ]
  },
  {
   "cell_type": "markdown",
   "id": "bibliographic-comparison",
   "metadata": {},
   "source": [
    "### Importing Libraries"
   ]
  },
  {
   "cell_type": "code",
   "execution_count": 41,
   "id": "informative-apparatus",
   "metadata": {},
   "outputs": [],
   "source": [
    "from matplotlib import pyplot as plt\n",
    "\n",
    "import tensorflow as tf\n",
    "from tensorflow.keras.preprocessing.text import Tokenizer\n",
    "from tensorflow.keras.preprocessing.sequence import pad_sequences\n",
    "from sklearn.model_selection import train_test_split\n",
    "\n",
    "from tensorflow.keras.models import Sequential\n",
    "from tensorflow.keras.layers import Dense, Embedding, Conv1D, MaxPool1D, LSTM, Bidirectional, Dropout\n",
    "from tensorflow.keras.callbacks import EarlyStopping"
   ]
  },
  {
   "cell_type": "code",
   "execution_count": 2,
   "id": "endless-headline",
   "metadata": {},
   "outputs": [
    {
     "name": "stdout",
     "output_type": "stream",
     "text": [
      "Tensorflow version: 2.4.0\n"
     ]
    }
   ],
   "source": [
    "print(\"Tensorflow version:\",tf.__version__)"
   ]
  },
  {
   "cell_type": "code",
   "execution_count": 3,
   "id": "prepared-phoenix",
   "metadata": {},
   "outputs": [
    {
     "data": {
      "text/plain": [
       "'jumpa\\t\\ndoctor fate\\t\\nstarlight\\t\\nisildur\\t\\nlasher\\t\\nvarvara\\t\\nthe target\\t\\naxel\\t\\nbattra\\t\\nchangeling\\t\\npyrrh'"
      ]
     },
     "execution_count": 3,
     "metadata": {},
     "output_type": "execute_result"
    }
   ],
   "source": [
    "with open(\"./superheroes.txt\", \"r\") as file:\n",
    "    data = file.read()\n",
    "    \n",
    "data[:100]"
   ]
  },
  {
   "cell_type": "markdown",
   "id": "considered-hobby",
   "metadata": {},
   "source": [
    "### Converting between Names and Sequences"
   ]
  },
  {
   "cell_type": "code",
   "execution_count": 4,
   "id": "neural-division",
   "metadata": {},
   "outputs": [],
   "source": [
    "tokenizer = Tokenizer(\n",
    "    filters='!\"#$%&()*+,-./:;<=>?@[\\\\]^_`{|}~',\n",
    "    split='\\n',\n",
    ")"
   ]
  },
  {
   "cell_type": "code",
   "execution_count": 5,
   "id": "strategic-actor",
   "metadata": {},
   "outputs": [],
   "source": [
    "tokenizer.fit_on_texts(data)"
   ]
  },
  {
   "cell_type": "code",
   "execution_count": 6,
   "id": "alert-smile",
   "metadata": {},
   "outputs": [],
   "source": [
    "# Help convert characters to numbers and vice versa\n",
    "\n",
    "char_to_index = tokenizer.word_index\n",
    "index_to_char = dict((v, k) for k, v in char_to_index.items())"
   ]
  },
  {
   "cell_type": "code",
   "execution_count": 7,
   "id": "sporting-california",
   "metadata": {},
   "outputs": [
    {
     "name": "stdout",
     "output_type": "stream",
     "text": [
      "{1: '\\t', 2: 'a', 3: 'e', 4: 'r', 5: 'o', 6: 'n', 7: 'i', 8: ' ', 9: 't', 10: 's', 11: 'l', 12: 'm', 13: 'h', 14: 'd', 15: 'c', 16: 'u', 17: 'g', 18: 'k', 19: 'b', 20: 'p', 21: 'y', 22: 'w', 23: 'f', 24: 'v', 25: 'j', 26: 'z', 27: 'x', 28: 'q'}\n"
     ]
    }
   ],
   "source": [
    "print(index_to_char)"
   ]
  },
  {
   "cell_type": "code",
   "execution_count": 8,
   "id": "legendary-steps",
   "metadata": {},
   "outputs": [
    {
     "data": {
      "text/plain": [
       "['jumpa\\t',\n",
       " 'doctor fate\\t',\n",
       " 'starlight\\t',\n",
       " 'isildur\\t',\n",
       " 'lasher\\t',\n",
       " 'varvara\\t',\n",
       " 'the target\\t',\n",
       " 'axel\\t',\n",
       " 'battra\\t',\n",
       " 'changeling\\t']"
      ]
     },
     "execution_count": 8,
     "metadata": {},
     "output_type": "execute_result"
    }
   ],
   "source": [
    "names = data.splitlines()\n",
    "names[:10]"
   ]
  },
  {
   "cell_type": "code",
   "execution_count": 9,
   "id": "continued-questionnaire",
   "metadata": {},
   "outputs": [],
   "source": [
    "def name_to_seq(name):\n",
    "    return [tokenizer.texts_to_sequences(c)[0][0] for c in name]"
   ]
  },
  {
   "cell_type": "code",
   "execution_count": 10,
   "id": "crazy-village",
   "metadata": {},
   "outputs": [
    {
     "data": {
      "text/plain": [
       "[25, 16, 12, 20, 2, 1]"
      ]
     },
     "execution_count": 10,
     "metadata": {},
     "output_type": "execute_result"
    }
   ],
   "source": [
    "name_to_seq(names[0])"
   ]
  },
  {
   "cell_type": "code",
   "execution_count": 11,
   "id": "valuable-sarah",
   "metadata": {},
   "outputs": [],
   "source": [
    "def seq_to_name(seq):\n",
    "    return \"\".join([index_to_char[i] for i in seq if i!=0])"
   ]
  },
  {
   "cell_type": "code",
   "execution_count": 12,
   "id": "fitting-doubt",
   "metadata": {},
   "outputs": [
    {
     "data": {
      "text/plain": [
       "'jumpa\\t'"
      ]
     },
     "execution_count": 12,
     "metadata": {},
     "output_type": "execute_result"
    }
   ],
   "source": [
    "seq_to_name([25, 16, 12, 20, 2, 1])"
   ]
  },
  {
   "cell_type": "markdown",
   "id": "armed-procurement",
   "metadata": {},
   "source": [
    "### Creating Sequences and Adding Padding"
   ]
  },
  {
   "cell_type": "code",
   "execution_count": 13,
   "id": "stretch-insurance",
   "metadata": {},
   "outputs": [],
   "source": [
    "# creating sequences\n",
    "sequences = []\n",
    "\n",
    "for name in names:\n",
    "    seq = name_to_seq(name)\n",
    "    if len(seq) >= 2:\n",
    "        sequences += [seq[:i] for i in range(2, len(seq)+1)]"
   ]
  },
  {
   "cell_type": "code",
   "execution_count": 14,
   "id": "modular-valley",
   "metadata": {},
   "outputs": [
    {
     "data": {
      "text/plain": [
       "[[25, 16],\n",
       " [25, 16, 12],\n",
       " [25, 16, 12, 20],\n",
       " [25, 16, 12, 20, 2],\n",
       " [25, 16, 12, 20, 2, 1],\n",
       " [14, 5],\n",
       " [14, 5, 15],\n",
       " [14, 5, 15, 9],\n",
       " [14, 5, 15, 9, 5],\n",
       " [14, 5, 15, 9, 5, 4]]"
      ]
     },
     "execution_count": 14,
     "metadata": {},
     "output_type": "execute_result"
    }
   ],
   "source": [
    "sequences[:10]"
   ]
  },
  {
   "cell_type": "code",
   "execution_count": 15,
   "id": "demanding-canada",
   "metadata": {},
   "outputs": [
    {
     "name": "stdout",
     "output_type": "stream",
     "text": [
      "33\n"
     ]
    }
   ],
   "source": [
    "# add padding\n",
    "\n",
    "max_len = max(len(x) for x in sequences)\n",
    "print(max_len)"
   ]
  },
  {
   "cell_type": "code",
   "execution_count": 16,
   "id": "incorporate-monaco",
   "metadata": {},
   "outputs": [],
   "source": [
    "padded_sequences = pad_sequences(\n",
    "    sequences,\n",
    "    padding=\"pre\",\n",
    "    maxlen=max_len\n",
    ")"
   ]
  },
  {
   "cell_type": "code",
   "execution_count": 17,
   "id": "technical-generation",
   "metadata": {},
   "outputs": [
    {
     "data": {
      "text/plain": [
       "array([ 0,  0,  0,  0,  0,  0,  0,  0,  0,  0,  0,  0,  0,  0,  0,  0,  0,\n",
       "        0,  0,  0,  0,  0,  0,  0,  0,  0,  0,  0,  0,  0,  0, 25, 16])"
      ]
     },
     "execution_count": 17,
     "metadata": {},
     "output_type": "execute_result"
    }
   ],
   "source": [
    "padded_sequences[0]"
   ]
  },
  {
   "cell_type": "code",
   "execution_count": 18,
   "id": "sustainable-liechtenstein",
   "metadata": {},
   "outputs": [
    {
     "data": {
      "text/plain": [
       "(88279, 33)"
      ]
     },
     "execution_count": 18,
     "metadata": {},
     "output_type": "execute_result"
    }
   ],
   "source": [
    "padded_sequences.shape"
   ]
  },
  {
   "cell_type": "markdown",
   "id": "pleased-sudan",
   "metadata": {},
   "source": [
    "### Creating Train and Validation Set"
   ]
  },
  {
   "cell_type": "code",
   "execution_count": 19,
   "id": "normal-captain",
   "metadata": {},
   "outputs": [
    {
     "name": "stdout",
     "output_type": "stream",
     "text": [
      "(88279, 32) (88279,)\n"
     ]
    }
   ],
   "source": [
    "x, y = padded_sequences[:, :-1], padded_sequences[:,-1]\n",
    "print(x.shape, y.shape)"
   ]
  },
  {
   "cell_type": "code",
   "execution_count": 34,
   "id": "compressed-publisher",
   "metadata": {},
   "outputs": [],
   "source": [
    "X_train, X_test, y_train, y_test = train_test_split(x, y, test_size=0.1)"
   ]
  },
  {
   "cell_type": "code",
   "execution_count": 35,
   "id": "every-station",
   "metadata": {},
   "outputs": [
    {
     "name": "stdout",
     "output_type": "stream",
     "text": [
      "(79451, 32) (79451,)\n",
      "(8828, 32) (8828,)\n"
     ]
    }
   ],
   "source": [
    "print(X_train.shape, y_train.shape)\n",
    "print(X_test.shape, y_test.shape)"
   ]
  },
  {
   "cell_type": "code",
   "execution_count": 36,
   "id": "radical-logging",
   "metadata": {},
   "outputs": [],
   "source": [
    "# including zero\n",
    "num_chars = len(char_to_index.keys()) + 1"
   ]
  },
  {
   "cell_type": "markdown",
   "id": "adjacent-netscape",
   "metadata": {},
   "source": [
    "### Building the model"
   ]
  },
  {
   "cell_type": "code",
   "execution_count": 39,
   "id": "failing-bahrain",
   "metadata": {},
   "outputs": [
    {
     "name": "stdout",
     "output_type": "stream",
     "text": [
      "Model: \"sequential_2\"\n",
      "_________________________________________________________________\n",
      "Layer (type)                 Output Shape              Param #   \n",
      "=================================================================\n",
      "embedding_2 (Embedding)      (None, 32, 8)             232       \n",
      "_________________________________________________________________\n",
      "conv1d_2 (Conv1D)            (None, 32, 64)            2624      \n",
      "_________________________________________________________________\n",
      "max_pooling1d_2 (MaxPooling1 (None, 16, 64)            0         \n",
      "_________________________________________________________________\n",
      "bidirectional (Bidirectional (None, 64)                24832     \n",
      "_________________________________________________________________\n",
      "dropout (Dropout)            (None, 64)                0         \n",
      "_________________________________________________________________\n",
      "dense_2 (Dense)              (None, 29)                1885      \n",
      "=================================================================\n",
      "Total params: 29,573\n",
      "Trainable params: 29,573\n",
      "Non-trainable params: 0\n",
      "_________________________________________________________________\n"
     ]
    }
   ],
   "source": [
    "model= Sequential([\n",
    "    Embedding(num_chars, 8, input_length=max_len-1),\n",
    "    Conv1D(64, 5, strides=1, activation='tanh', padding='causal'),\n",
    "    MaxPool1D(2),\n",
    "    Bidirectional(LSTM(32)),\n",
    "    Dropout(0.2),\n",
    "    Dense(num_chars, activation='softmax')\n",
    "])\n",
    "\n",
    "model.compile(\n",
    "    loss='sparse_categorical_crossentropy',\n",
    "    optimizer=\"adam\",\n",
    "    metrics=[\"accuracy\"]\n",
    ")\n",
    "\n",
    "model.summary()"
   ]
  },
  {
   "cell_type": "markdown",
   "id": "labeled-brooklyn",
   "metadata": {},
   "source": [
    "### Training the model"
   ]
  },
  {
   "cell_type": "code",
   "execution_count": 40,
   "id": "protecting-structure",
   "metadata": {},
   "outputs": [
    {
     "name": "stdout",
     "output_type": "stream",
     "text": [
      "Epoch 1/50\n",
      "1863/1863 [==============================] - 18s 8ms/step - loss: 2.9306 - accuracy: 0.1488 - val_loss: 2.6205 - val_accuracy: 0.2166\n",
      "Epoch 2/50\n",
      "1863/1863 [==============================] - 14s 8ms/step - loss: 2.6161 - accuracy: 0.2152 - val_loss: 2.5412 - val_accuracy: 0.2310\n",
      "Epoch 3/50\n",
      "1863/1863 [==============================] - 16s 9ms/step - loss: 2.5436 - accuracy: 0.2361 - val_loss: 2.4891 - val_accuracy: 0.2471\n",
      "Epoch 4/50\n",
      "1863/1863 [==============================] - 18s 10ms/step - loss: 2.4960 - accuracy: 0.2471 - val_loss: 2.4468 - val_accuracy: 0.2582\n",
      "Epoch 5/50\n",
      "1863/1863 [==============================] - 18s 10ms/step - loss: 2.4633 - accuracy: 0.2562 - val_loss: 2.4197 - val_accuracy: 0.2640\n",
      "Epoch 6/50\n",
      "1863/1863 [==============================] - 20s 11ms/step - loss: 2.4361 - accuracy: 0.2631 - val_loss: 2.4010 - val_accuracy: 0.2717\n",
      "Epoch 7/50\n",
      "1863/1863 [==============================] - 21s 11ms/step - loss: 2.4044 - accuracy: 0.2706 - val_loss: 2.3796 - val_accuracy: 0.2762\n",
      "Epoch 8/50\n",
      "1863/1863 [==============================] - 22s 12ms/step - loss: 2.3848 - accuracy: 0.2778 - val_loss: 2.3574 - val_accuracy: 0.2839\n",
      "Epoch 9/50\n",
      "1863/1863 [==============================] - 20s 11ms/step - loss: 2.3631 - accuracy: 0.2837 - val_loss: 2.3401 - val_accuracy: 0.2898\n",
      "Epoch 10/50\n",
      "1863/1863 [==============================] - 20s 11ms/step - loss: 2.3502 - accuracy: 0.2865 - val_loss: 2.3233 - val_accuracy: 0.2982\n",
      "Epoch 11/50\n",
      "1863/1863 [==============================] - 21s 11ms/step - loss: 2.3272 - accuracy: 0.2942 - val_loss: 2.3174 - val_accuracy: 0.3015\n",
      "Epoch 12/50\n",
      "1863/1863 [==============================] - 22s 12ms/step - loss: 2.3177 - accuracy: 0.2962 - val_loss: 2.3038 - val_accuracy: 0.3050\n",
      "Epoch 13/50\n",
      "1863/1863 [==============================] - 20s 11ms/step - loss: 2.3024 - accuracy: 0.3008 - val_loss: 2.2881 - val_accuracy: 0.3089\n",
      "Epoch 14/50\n",
      "1863/1863 [==============================] - 22s 12ms/step - loss: 2.2818 - accuracy: 0.3079 - val_loss: 2.2789 - val_accuracy: 0.3107\n",
      "Epoch 15/50\n",
      "1863/1863 [==============================] - 23s 13ms/step - loss: 2.2698 - accuracy: 0.3145 - val_loss: 2.2699 - val_accuracy: 0.3172\n",
      "Epoch 16/50\n",
      "1863/1863 [==============================] - 20s 11ms/step - loss: 2.2554 - accuracy: 0.3161 - val_loss: 2.2598 - val_accuracy: 0.3187\n",
      "Epoch 17/50\n",
      "1863/1863 [==============================] - 21s 11ms/step - loss: 2.2407 - accuracy: 0.3220 - val_loss: 2.2557 - val_accuracy: 0.3225\n",
      "Epoch 18/50\n",
      "1863/1863 [==============================] - 21s 12ms/step - loss: 2.2253 - accuracy: 0.3222 - val_loss: 2.2439 - val_accuracy: 0.3230\n",
      "Epoch 19/50\n",
      "1863/1863 [==============================] - 21s 11ms/step - loss: 2.2047 - accuracy: 0.3347 - val_loss: 2.2371 - val_accuracy: 0.3259\n",
      "Epoch 20/50\n",
      "1863/1863 [==============================] - 24s 13ms/step - loss: 2.1951 - accuracy: 0.3353 - val_loss: 2.2383 - val_accuracy: 0.3261\n",
      "Epoch 21/50\n",
      "1863/1863 [==============================] - 20s 11ms/step - loss: 2.1853 - accuracy: 0.3401 - val_loss: 2.2281 - val_accuracy: 0.3316\n",
      "Epoch 22/50\n",
      "1863/1863 [==============================] - 20s 11ms/step - loss: 2.1701 - accuracy: 0.3404 - val_loss: 2.2270 - val_accuracy: 0.3323\n",
      "Epoch 23/50\n",
      "1863/1863 [==============================] - 23s 12ms/step - loss: 2.1583 - accuracy: 0.3478 - val_loss: 2.2208 - val_accuracy: 0.3335\n",
      "Epoch 24/50\n",
      "1863/1863 [==============================] - 21s 11ms/step - loss: 2.1516 - accuracy: 0.3517 - val_loss: 2.2169 - val_accuracy: 0.3366\n",
      "Epoch 25/50\n",
      "1863/1863 [==============================] - 21s 11ms/step - loss: 2.1453 - accuracy: 0.3569 - val_loss: 2.2121 - val_accuracy: 0.3401\n",
      "Epoch 26/50\n",
      "1863/1863 [==============================] - 22s 12ms/step - loss: 2.1273 - accuracy: 0.3571 - val_loss: 2.2182 - val_accuracy: 0.3394\n",
      "Epoch 27/50\n",
      "1863/1863 [==============================] - 22s 12ms/step - loss: 2.1155 - accuracy: 0.3613 - val_loss: 2.2183 - val_accuracy: 0.3401\n",
      "Epoch 28/50\n",
      "1863/1863 [==============================] - 25s 13ms/step - loss: 2.1055 - accuracy: 0.3625 - val_loss: 2.2106 - val_accuracy: 0.3411\n",
      "Epoch 29/50\n",
      "1863/1863 [==============================] - 19s 10ms/step - loss: 2.0945 - accuracy: 0.3714 - val_loss: 2.2064 - val_accuracy: 0.3443\n",
      "Epoch 30/50\n",
      "1863/1863 [==============================] - 21s 11ms/step - loss: 2.0809 - accuracy: 0.3735 - val_loss: 2.2136 - val_accuracy: 0.3414\n",
      "Epoch 31/50\n",
      "1863/1863 [==============================] - 19s 10ms/step - loss: 2.0771 - accuracy: 0.3732 - val_loss: 2.2202 - val_accuracy: 0.3478\n",
      "Epoch 32/50\n",
      "1863/1863 [==============================] - 22s 12ms/step - loss: 2.0577 - accuracy: 0.3784 - val_loss: 2.2092 - val_accuracy: 0.3462\n",
      "Epoch 33/50\n",
      "1863/1863 [==============================] - 25s 14ms/step - loss: 2.0448 - accuracy: 0.3841 - val_loss: 2.2061 - val_accuracy: 0.3436\n",
      "Epoch 34/50\n",
      "1863/1863 [==============================] - 20s 11ms/step - loss: 2.0446 - accuracy: 0.3857 - val_loss: 2.2091 - val_accuracy: 0.3424\n",
      "Epoch 35/50\n",
      "1863/1863 [==============================] - 21s 11ms/step - loss: 2.0374 - accuracy: 0.3835 - val_loss: 2.2078 - val_accuracy: 0.3476\n"
     ]
    }
   ],
   "source": [
    "ES = EarlyStopping(monitor='val_accuracy', patience=4)\n",
    "\n",
    "histry = model.fit(\n",
    "            X_train, y_train,\n",
    "            validation_split=0.25,\n",
    "            epochs=50,\n",
    "            callbacks=[ES],\n",
    "            verbose=1\n",
    "        )"
   ]
  },
  {
   "cell_type": "code",
   "execution_count": 43,
   "id": "dedicated-batch",
   "metadata": {},
   "outputs": [
    {
     "data": {
      "image/png": "[encoded data removed]",
      "text/plain": [
       "<Figure size 432x288 with 1 Axes>"
      ]
     },
     "metadata": {
      "needs_background": "light"
     },
     "output_type": "display_data"
    }
   ],
   "source": [
    "epocs_ran = len(histry.history['loss'])\n",
    "\n",
    "plt.plot(range(epocs_ran), histry.history['val_accuracy'], label='Validation')\n",
    "plt.plot(range(epocs_ran), histry.history['accuracy'], label='Training')\n",
    "\n",
    "plt.legend()\n",
    "plt.show()"
   ]
  },
  {
   "cell_type": "markdown",
   "id": "returning-tennis",
   "metadata": {},
   "source": [
    "### Generate Names"
   ]
  },
  {
   "cell_type": "code",
   "execution_count": 50,
   "id": "thick-painting",
   "metadata": {},
   "outputs": [],
   "source": [
    "def generate_names(seed):\n",
    "    for i in range(0, 40):\n",
    "        seq = name_to_seq(seed)\n",
    "        padded = pad_sequences([seq], padding=\"pre\", maxlen=max_len-1, truncating='pre')\n",
    "        \n",
    "        pred = model.predict(padded)[0]\n",
    "        pred_char = index_to_char[tf.argmax(pred).numpy()]\n",
    "        seed += pred_char\n",
    "        \n",
    "        if pred_char == '\\t':\n",
    "            break\n",
    "        \n",
    "    print(seed)"
   ]
  },
  {
   "cell_type": "code",
   "execution_count": 62,
   "id": "effective-fiction",
   "metadata": {},
   "outputs": [
    {
     "name": "stdout",
     "output_type": "stream",
     "text": [
      "dark saros\t\n"
     ]
    }
   ],
   "source": [
    "generate_names('dar')"
   ]
  },
  {
   "cell_type": "code",
   "execution_count": 61,
   "id": "robust-display",
   "metadata": {},
   "outputs": [
    {
     "name": "stdout",
     "output_type": "stream",
     "text": [
      "lona datker\t\n"
     ]
    }
   ],
   "source": [
    "generate_names('lo')"
   ]
  },
  {
   "cell_type": "code",
   "execution_count": 58,
   "id": "indirect-desperate",
   "metadata": {},
   "outputs": [
    {
     "name": "stdout",
     "output_type": "stream",
     "text": [
      "leen gara\t\n"
     ]
    }
   ],
   "source": [
    "generate_names('lee')"
   ]
  },
  {
   "cell_type": "code",
   "execution_count": null,
   "id": "qualified-reservation",
   "metadata": {},
   "outputs": [],
   "source": []
  }
 ],
 "metadata": {
  "kernelspec": {
   "display_name": "Python 3",
   "language": "python",
   "name": "python3"
  },
  "language_info": {
   "codemirror_mode": {
    "name": "ipython",
    "version": 3
   },
   "file_extension": ".py",
   "mimetype": "text/x-python",
   "name": "python",
   "nbconvert_exporter": "python",
   "pygments_lexer": "ipython3",
   "version": "3.8.8"
  }
 },
 "nbformat": 4,
 "nbformat_minor": 5
}
