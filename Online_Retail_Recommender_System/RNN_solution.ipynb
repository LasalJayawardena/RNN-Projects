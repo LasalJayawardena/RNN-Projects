{
 "cells": [
  {
   "cell_type": "markdown",
   "metadata": {},
   "source": [
    "# RNN Approach to build the Recommender System"
   ]
  },
  {
   "cell_type": "markdown",
   "metadata": {},
   "source": [
    "### Import Libraries"
   ]
  },
  {
   "cell_type": "code",
   "execution_count": 1,
   "metadata": {
    "collapsed": true
   },
   "outputs": [],
   "source": [
    "import pickle\n",
    "\n",
    "import pandas as pd\n",
    "import numpy as np\n",
    "import scipy.sparse as sp\n",
    "\n",
    "from tqdm import tqdm_notebook as tqdm\n",
    "\n",
    "from numba import jit, njit"
   ]
  },
  {
   "cell_type": "markdown",
   "metadata": {},
   "source": [
    "### Load the Data"
   ]
  },
  {
   "cell_type": "code",
   "execution_count": 5,
   "metadata": {
    "collapsed": true
   },
   "outputs": [],
   "source": [
    "with open('data/df_retail.bin', 'rb') as f_in:\n",
    "    df = pickle.load(f_in)"
   ]
  },
  {
   "cell_type": "code",
   "execution_count": 6,
   "metadata": {
    "collapsed": true
   },
   "outputs": [],
   "source": [
    "df.columns = df.columns.str.lower()\n",
    "df = df[~df.invoiceno.astype('str').str.startswith('C')].reset_index(drop=True)\n",
    "df.customerid = df.customerid.fillna(-1).astype('int32')"
   ]
  },
  {
   "cell_type": "markdown",
   "metadata": {},
   "source": [
    "### Data Preprocessing"
   ]
  },
  {
   "cell_type": "code",
   "execution_count": 7,
   "metadata": {
    "collapsed": true
   },
   "outputs": [],
   "source": [
    "class LabelEncoder:\n",
    "    def fit(self, seq):\n",
    "        self.vocab = sorted(set(seq))\n",
    "        self.idx = {c: i + 1 for i, c in enumerate(self.vocab)}\n",
    "\n",
    "    def vocab_size(self):\n",
    "        return len(self.vocab) + 1\n",
    "\n",
    "    def transfrom(self, seq):\n",
    "        n = len(seq)\n",
    "        result = np.zeros(n, dtype='int32')\n",
    "\n",
    "        for i in range(n):\n",
    "            result[i] = self.idx.get(seq[i], 0)\n",
    "\n",
    "        return result\n",
    "\n",
    "    def fit_transform(self, seq):\n",
    "        self.fit(seq)\n",
    "        return self.transfrom(seq)"
   ]
  },
  {
   "cell_type": "code",
   "execution_count": 8,
   "metadata": {},
   "outputs": [],
   "source": [
    "item_enc = LabelEncoder()\n",
    "df.stockcode = item_enc.fit_transform(df.stockcode.astype('str'))\n",
    "df.stockcode = df.stockcode.astype('int32')"
   ]
  },
  {
   "cell_type": "markdown",
   "metadata": {},
   "source": [
    "### Train Test split"
   ]
  },
  {
   "cell_type": "code",
   "execution_count": 9,
   "metadata": {},
   "outputs": [],
   "source": [
    "df_train = df[df.invoicedate < '2011-10-09'].reset_index(drop=True)\n",
    "df_val = df[(df.invoicedate >= '2011-10-09') & (df.invoicedate <= '2011-11-09') ].reset_index(drop=True)\n",
    "df_test = df[df.invoicedate >= '2011-11-09'].reset_index(drop=True)"
   ]
  },
  {
   "cell_type": "code",
   "execution_count": 10,
   "metadata": {},
   "outputs": [
    {
     "data": {
      "text/plain": [
       "((378470, 8), (64460, 8), (89691, 8))"
      ]
     },
     "execution_count": 10,
     "metadata": {},
     "output_type": "execute_result"
    }
   ],
   "source": [
    "df_train.shape, df_val.shape, df_test.shape"
   ]
  },
  {
   "cell_type": "code",
   "execution_count": 11,
   "metadata": {},
   "outputs": [],
   "source": [
    "user_enc = LabelEncoder()\n",
    "user_enc.fit(df_train[df_train.customerid != -1].customerid)\n",
    "\n",
    "df_train.customerid = user_enc.transfrom(df_train.customerid)\n",
    "df_val.customerid = user_enc.transfrom(df_val.customerid)"
   ]
  },
  {
   "cell_type": "code",
   "execution_count": 12,
   "metadata": {
    "collapsed": true
   },
   "outputs": [],
   "source": [
    "uid_train = df_train.drop_duplicates(subset='invoiceno').customerid.values\n",
    "uid_val = df_val.drop_duplicates(subset='invoiceno').customerid.values"
   ]
  },
  {
   "cell_type": "code",
   "execution_count": 13,
   "metadata": {
    "collapsed": true
   },
   "outputs": [],
   "source": [
    "def group_indptr(df):\n",
    "    indptr, = np.where(df.invoiceno != df.invoiceno.shift())\n",
    "    indptr = np.append(indptr, len(df)).astype('int32')\n",
    "    return indptr\n",
    "\n",
    "indptr_train = group_indptr(df_train)\n",
    "indptr_val = group_indptr(df_val)"
   ]
  },
  {
   "cell_type": "code",
   "execution_count": 39,
   "metadata": {
    "collapsed": true
   },
   "outputs": [],
   "source": [
    "from collections import Counter\n",
    "top_train = Counter(df_train.stockcode)"
   ]
  },
  {
   "cell_type": "markdown",
   "metadata": {},
   "source": [
    "### Baseline"
   ]
  },
  {
   "cell_type": "code",
   "execution_count": 48,
   "metadata": {
    "collapsed": true
   },
   "outputs": [],
   "source": [
    "def baseline(uid, indptr, items, top, k=5):\n",
    "    n_groups = len(uid)\n",
    "    n_items = len(items)\n",
    "\n",
    "    pred_all = np.zeros((n_items, k), dtype=np.int32)\n",
    "\n",
    "    for g in range(n_groups):\n",
    "        t = top.copy()\n",
    "\n",
    "        start = indptr[g]\n",
    "        end = indptr[g+1]\n",
    "        \n",
    "        for i in range(start, end):\n",
    "            pred = [k for (k, c) in t.most_common(5)]\n",
    "            pred_all[i] = pred\n",
    "\n",
    "            actual = items[i]\n",
    "            if actual in t:\n",
    "                del t[actual]\n",
    "\n",
    "    return pred_all"
   ]
  },
  {
   "cell_type": "code",
   "execution_count": 49,
   "metadata": {},
   "outputs": [
    {
     "data": {
      "text/plain": [
       "array([[3528, 3507, 1348, 2731,  181],\n",
       "       [3528, 3507, 1348, 2731,  181],\n",
       "       [3528, 3507, 1348, 2731,  181],\n",
       "       ...,\n",
       "       [1348, 2731,  181,  454, 1314],\n",
       "       [1348, 2731,  181,  454, 1314],\n",
       "       [1348, 2731,  181,  454, 1314]], dtype=int32)"
      ]
     },
     "execution_count": 49,
     "metadata": {},
     "output_type": "execute_result"
    }
   ],
   "source": [
    "iid_val = df_val.stockcode.values\n",
    "pred_baseline = baseline(uid_val, indptr_val, iid_val, top_train, k=5)"
   ]
  },
  {
   "cell_type": "code",
   "execution_count": 55,
   "metadata": {
    "collapsed": true
   },
   "outputs": [],
   "source": [
    "@njit\n",
    "def accuracy_k(y_true, y_pred):\n",
    "    n, k = y_pred.shape\n",
    "\n",
    "    acc = 0\n",
    "    for i in range(n):\n",
    "        for j in range(k):\n",
    "            if y_pred[i, j] == y_true[i]:\n",
    "                acc = acc + 1\n",
    "                break\n",
    "\n",
    "    return acc / n"
   ]
  },
  {
   "cell_type": "code",
   "execution_count": 56,
   "metadata": {},
   "outputs": [
    {
     "data": {
      "text/plain": [
       "0.012705553831833695"
      ]
     },
     "execution_count": 56,
     "metadata": {},
     "output_type": "execute_result"
    }
   ],
   "source": [
    "accuracy_k(iid_val, pred_baseline)"
   ]
  },
  {
   "cell_type": "markdown",
   "metadata": {},
   "source": [
    "### RNN naive model"
   ]
  },
  {
   "cell_type": "code",
   "execution_count": 14,
   "metadata": {
    "collapsed": true
   },
   "outputs": [],
   "source": [
    "def pack_items(users, items_indptr, items_vals):\n",
    "    n = len(items_indptr) - 1\n",
    "\n",
    "    result = []\n",
    "    for i in range(n):\n",
    "        start = items_indptr[i]\n",
    "        end = items_indptr[i+1]\n",
    "        result.append(items_vals[start:end])\n",
    "\n",
    "    return result"
   ]
  },
  {
   "cell_type": "code",
   "execution_count": 63,
   "metadata": {
    "collapsed": true
   },
   "outputs": [],
   "source": [
    "train_items = pack_items(indptr_train, indptr_train, df_train.stockcode.values)\n",
    "\n",
    "df_train_wrap = pd.DataFrame()\n",
    "df_train_wrap['customerid'] = uid_train\n",
    "df_train_wrap['items'] = train_items"
   ]
  },
  {
   "cell_type": "code",
   "execution_count": 64,
   "metadata": {
    "scrolled": false
   },
   "outputs": [
    {
     "data": {
      "text/html": [
       "<div>\n",
       "<style>\n",
       "    .dataframe thead tr:only-child th {\n",
       "        text-align: right;\n",
       "    }\n",
       "\n",
       "    .dataframe thead th {\n",
       "        text-align: left;\n",
       "    }\n",
       "\n",
       "    .dataframe tbody tr th {\n",
       "        vertical-align: top;\n",
       "    }\n",
       "</style>\n",
       "<table border=\"1\" class=\"dataframe\">\n",
       "  <thead>\n",
       "    <tr style=\"text-align: right;\">\n",
       "      <th></th>\n",
       "      <th>customerid</th>\n",
       "      <th>items</th>\n",
       "    </tr>\n",
       "  </thead>\n",
       "  <tbody>\n",
       "    <tr>\n",
       "      <th>0</th>\n",
       "      <td>3439</td>\n",
       "      <td>[3528, 2792, 3041, 2982, 2981, 1662, 800]</td>\n",
       "    </tr>\n",
       "    <tr>\n",
       "      <th>1</th>\n",
       "      <td>3439</td>\n",
       "      <td>[1547, 1546]</td>\n",
       "    </tr>\n",
       "    <tr>\n",
       "      <th>2</th>\n",
       "      <td>459</td>\n",
       "      <td>[3301, 1655, 1658, 1659, 1247, 3368, 1537, 153...</td>\n",
       "    </tr>\n",
       "    <tr>\n",
       "      <th>3</th>\n",
       "      <td>459</td>\n",
       "      <td>[1862, 1816, 1815, 1817]</td>\n",
       "    </tr>\n",
       "    <tr>\n",
       "      <th>4</th>\n",
       "      <td>459</td>\n",
       "      <td>[818]</td>\n",
       "    </tr>\n",
       "  </tbody>\n",
       "</table>\n",
       "</div>"
      ],
      "text/plain": [
       "   customerid                                              items\n",
       "0        3439          [3528, 2792, 3041, 2982, 2981, 1662, 800]\n",
       "1        3439                                       [1547, 1546]\n",
       "2         459  [3301, 1655, 1658, 1659, 1247, 3368, 1537, 153...\n",
       "3         459                           [1862, 1816, 1815, 1817]\n",
       "4         459                                              [818]"
      ]
     },
     "execution_count": 64,
     "metadata": {},
     "output_type": "execute_result"
    }
   ],
   "source": [
    "df_train_wrap.head()"
   ]
  },
  {
   "cell_type": "code",
   "execution_count": 163,
   "metadata": {
    "collapsed": true
   },
   "outputs": [],
   "source": [
    "def pad_seq(data, num_steps):\n",
    "    data = np.pad(data, pad_width=(1, 0), mode='constant')\n",
    "\n",
    "    n = len(data)\n",
    "\n",
    "    if n <= num_steps:\n",
    "        pad_right = num_steps - n + 1\n",
    "        data = np.pad(data, pad_width=(0, pad_right), mode='constant')\n",
    "\n",
    "    return data\n",
    "\n",
    "def prepare_train_data(data, num_steps):\n",
    "    data = pad_seq(data, num_steps)\n",
    "\n",
    "    X = []\n",
    "    Y = []\n",
    "\n",
    "    for i in range(num_steps, len(data)):\n",
    "        start = i - num_steps\n",
    "        X.append(data[start:i])\n",
    "        Y.append(data[start+1:i+1])\n",
    "\n",
    "    return X, Y"
   ]
  },
  {
   "cell_type": "code",
   "execution_count": 1,
   "metadata": {},
   "outputs": [],
   "source": [
    "import tensorflow as tf\n",
    "rnn = tf.contrib.rnn"
   ]
  },
  {
   "cell_type": "code",
   "execution_count": 214,
   "metadata": {
    "collapsed": true
   },
   "outputs": [],
   "source": [
    "class Config:\n",
    "    num_steps = 5\n",
    "\n",
    "    num_items = item_enc.vocab_size()\n",
    "    num_users = user_enc.vocab_size()\n",
    "\n",
    "    init_scale = 0.1\n",
    "    learning_rate = 1.0\n",
    "    max_grad_norm = 5\n",
    "    num_layers = 2\n",
    "    hidden_size = 200\n",
    "    embedding_size = 200\n",
    "    batch_size = 20    \n",
    "\n",
    "config = Config()"
   ]
  },
  {
   "cell_type": "code",
   "execution_count": 200,
   "metadata": {
    "collapsed": true
   },
   "outputs": [],
   "source": [
    "train_items = df_train_wrap['items']\n",
    "\n",
    "X_train = []\n",
    "Y_train = []\n",
    "\n",
    "for i in range(len(train_items)):\n",
    "    X, Y = prepare_train_data(train_items[i], config.num_steps)\n",
    "    X_train.extend(X)\n",
    "    Y_train.extend(Y)\n",
    "\n",
    "X_train = np.array(X_train, dtype='int32')\n",
    "Y_train = np.array(Y_train, dtype='int32')"
   ]
  },
  {
   "cell_type": "markdown",
   "metadata": {},
   "source": [
    "### Model Graph"
   ]
  },
  {
   "cell_type": "code",
   "execution_count": 299,
   "metadata": {
    "collapsed": true
   },
   "outputs": [],
   "source": [
    "def lstm_cell(hidden_size, is_training):\n",
    "    return rnn.BasicLSTMCell(hidden_size, forget_bias=0.0, \n",
    "                             state_is_tuple=True, reuse=not is_training)\n",
    "\n",
    "def rnn_model(inputs, hidden_size, num_layers, batch_size, num_steps, is_training):\n",
    "    cells = [lstm_cell(hidden_size, is_training) for _ in range(num_layers)]\n",
    "    cell = rnn.MultiRNNCell(cells, state_is_tuple=True)\n",
    "\n",
    "    initial_state = cell.zero_state(batch_size, tf.float32)\n",
    "    inputs = tf.unstack(inputs, num=num_steps, axis=1)\n",
    "    outputs, final_state = rnn.static_rnn(cell, inputs, initial_state=initial_state)\n",
    "    output = tf.reshape(tf.concat(outputs, 1), [-1, hidden_size])\n",
    "\n",
    "    return output, initial_state, final_state\n",
    "\n",
    "\n",
    "def model(config, is_training):\n",
    "    batch_size = config.batch_size\n",
    "    num_steps = config.num_steps\n",
    "    embedding_size = config.embedding_size\n",
    "    hidden_size = config.hidden_size\n",
    "    num_items = config.num_items\n",
    "\n",
    "    place_x = tf.placeholder(shape=[batch_size, num_steps], dtype=tf.int32)\n",
    "    place_y = tf.placeholder(shape=[batch_size, num_steps], dtype=tf.int32)\n",
    "\n",
    "    embedding = tf.get_variable(\"items\", [num_items, embedding_size], dtype=tf.float32)\n",
    "    inputs = tf.nn.embedding_lookup(embedding, place_x)\n",
    "\n",
    "    output, initial_state, final_state = \\\n",
    "        rnn_model(inputs, hidden_size, config.num_layers, batch_size, num_steps, is_training)\n",
    "\n",
    "    W = tf.get_variable(\"W\", [hidden_size, num_items], dtype=tf.float32)\n",
    "    b = tf.get_variable(\"b\", [num_items], dtype=tf.float32)\n",
    "    logits = tf.nn.xw_plus_b(output, W, b)\n",
    "    logits = tf.reshape(logits, [batch_size, num_steps, num_items])\n",
    "\n",
    "    loss = tf.losses.sparse_softmax_cross_entropy(place_y, logits)\n",
    "    total_loss = tf.reduce_mean(loss)\n",
    "\n",
    "    tvars = tf.trainable_variables()\n",
    "    gradient = tf.gradients(total_loss, tvars)\n",
    "    clipped, _ = tf.clip_by_global_norm(gradient, config.max_grad_norm)\n",
    "    optimizer = tf.train.GradientDescentOptimizer(config.learning_rate)\n",
    "\n",
    "    global_step = tf.train.get_or_create_global_step()\n",
    "    train_op = optimizer.apply_gradients(zip(clipped, tvars), global_step=global_step)\n",
    "\n",
    "    out = {}\n",
    "    out['place_x'] = place_x\n",
    "    out['place_y'] = place_y\n",
    "    \n",
    "    out['logits'] = logits\n",
    "    out['initial_state'] = initial_state\n",
    "    out['final_state'] = final_state\n",
    "\n",
    "    out['total_loss'] = total_loss\n",
    "    out['train_op'] = train_op\n",
    "\n",
    "    return out"
   ]
  },
  {
   "cell_type": "markdown",
   "metadata": {},
   "source": [
    "### Training the Model"
   ]
  },
  {
   "cell_type": "code",
   "execution_count": 300,
   "metadata": {},
   "outputs": [],
   "source": [
    "config = Config()\n",
    "config_val = Config()\n",
    "config_val.batch_size = 1\n",
    "config_val.num_steps = 1\n",
    "\n",
    "graph = tf.Graph()\n",
    "graph.seed = 1\n",
    "\n",
    "with graph.as_default():\n",
    "    initializer = tf.random_uniform_initializer(-config.init_scale, config.init_scale)\n",
    "\n",
    "    with tf.name_scope(\"Train\"):\n",
    "        with tf.variable_scope(\"Model\", reuse=None, initializer=initializer):\n",
    "            train_model = model(config, is_training=True)\n",
    "\n",
    "    with tf.name_scope(\"Valid\"):\n",
    "        with tf.variable_scope(\"Model\", reuse=True, initializer=initializer):\n",
    "            val_model = model(config_val, is_training=False)\n",
    "\n",
    "    init = tf.global_variables_initializer()"
   ]
  },
  {
   "cell_type": "code",
   "execution_count": 301,
   "metadata": {
    "collapsed": true
   },
   "outputs": [],
   "source": [
    "def prepare_batches(seq, step):\n",
    "    n = len(seq)\n",
    "    res = []\n",
    "    for i in range(0, n, step):\n",
    "        res.append(seq[i:i+step])\n",
    "    return res"
   ]
  },
  {
   "cell_type": "code",
   "execution_count": 302,
   "metadata": {
    "collapsed": true
   },
   "outputs": [],
   "source": [
    "def run_epoch(session, model, X, Y, batch_size):\n",
    "    fetches = {\n",
    "        \"total_loss\": model['total_loss'],\n",
    "        \"final_state\": model['final_state'],\n",
    "        \"eval_op\": model['train_op']\n",
    "    }\n",
    "\n",
    "    num_steps = X.shape[1]\n",
    "    all_idx = np.arange(X.shape[0])\n",
    "    np.random.shuffle(all_idx)\n",
    "    batches = prepare_batches(all_idx, batch_size)\n",
    "\n",
    "    initial_state = session.run(model['initial_state'])\n",
    "    current_state = initial_state\n",
    "\n",
    "    progress = tqdm(total=len(batches))\n",
    "    for idx in batches:\n",
    "        if len(idx) < batch_size:\n",
    "            continue\n",
    "\n",
    "        feed_dict = {}\n",
    "        for i, (c, h) in enumerate(model['initial_state']):\n",
    "            feed_dict[c] = current_state[i].c\n",
    "            feed_dict[h] = current_state[i].h\n",
    "\n",
    "        feed_dict[model['place_x']] = X[idx]\n",
    "        feed_dict[model['place_y']] = Y[idx]\n",
    "\n",
    "        vals = session.run(fetches, feed_dict)\n",
    "        loss = vals[\"total_loss\"]\n",
    "        current_state = vals[\"final_state\"]\n",
    "\n",
    "        progress.update(1)\n",
    "        progress.set_description('%.3f' % loss)\n",
    "    progress.close()"
   ]
  },
  {
   "cell_type": "code",
   "execution_count": 303,
   "metadata": {},
   "outputs": [
    {
     "name": "stdout",
     "output_type": "stream",
     "text": [
      "\n"
     ]
    }
   ],
   "source": [
    "session = tf.Session(config=None, graph=graph) \n",
    "session.run(init)\n",
    "\n",
    "np.random.seed(0)\n",
    "\n",
    "run_epoch(session, train_model, X_train, Y_train, batch_size=config.batch_size)"
   ]
  },
  {
   "cell_type": "code",
   "execution_count": 304,
   "metadata": {},
   "outputs": [],
   "source": [
    "def generate_prediction(uid, indptr, items, model, k):\n",
    "    n_groups = len(uid)\n",
    "    n_items = len(items)\n",
    "\n",
    "    pred_all = np.zeros((n_items, k), dtype=np.int32)\n",
    "    initial_state = session.run(model['initial_state'])\n",
    "\n",
    "    fetches = {\n",
    "        \"logits\": model['logits'],\n",
    "        \"final_state\": model['final_state'],\n",
    "    }\n",
    "\n",
    "    for g in tqdm(range(n_groups)):    \n",
    "        start = indptr[g]\n",
    "        end = indptr[g+1]\n",
    "\n",
    "        current_state = initial_state\n",
    "\n",
    "        feed_dict = {}\n",
    "\n",
    "        for i, (c, h) in enumerate(model['initial_state']):\n",
    "            feed_dict[c] = current_state[i].c\n",
    "            feed_dict[h] = current_state[i].h\n",
    "\n",
    "        prev = np.array([[0]], dtype=np.int32)\n",
    "\n",
    "        for i in range(start, end):\n",
    "            feed_dict[model['place_x']] = prev\n",
    "\n",
    "            actual = items[i]\n",
    "            prev[0, 0] = actual\n",
    "\n",
    "            values = session.run(fetches, feed_dict)\n",
    "            current_state = values[\"final_state\"]\n",
    "\n",
    "            logits = values['logits'].reshape(-1)\n",
    "            pred = np.argpartition(-logits, k)[:k]\n",
    "            pred_all[i] = pred\n",
    "\n",
    "    return pred_all"
   ]
  },
  {
   "cell_type": "code",
   "execution_count": 305,
   "metadata": {},
   "outputs": [
    {
     "name": "stdout",
     "output_type": "stream",
     "text": [
      "\n"
     ]
    }
   ],
   "source": [
    "pred_lstm = generate_prediction(uid_val, indptr_val, iid_val, val_model, k=5)"
   ]
  },
  {
   "cell_type": "code",
   "execution_count": 306,
   "metadata": {
    "scrolled": true
   },
   "outputs": [
    {
     "data": {
      "text/plain": [
       "0.07130003102699349"
      ]
     },
     "execution_count": 306,
     "metadata": {},
     "output_type": "execute_result"
    }
   ],
   "source": [
    "accuracy_k(iid_val, pred_lstm)"
   ]
  },
  {
   "cell_type": "code",
   "execution_count": 307,
   "metadata": {
    "collapsed": true
   },
   "outputs": [],
   "source": [
    "X_train = []\n",
    "U_train = []\n",
    "Y_train = []\n",
    "\n",
    "\n",
    "for t in df_train_wrap.itertuples():\n",
    "    X, Y = prepare_train_data(t.items, config.num_steps)\n",
    "    U_train.extend([t.customerid] * len(X))\n",
    "    X_train.extend(X)\n",
    "    Y_train.extend(Y)\n",
    "\n",
    "X_train = np.array(X_train, dtype='int32')\n",
    "Y_train = np.array(Y_train, dtype='int32')\n",
    "U_train = np.array(U_train, dtype='int32')"
   ]
  },
  {
   "cell_type": "code",
   "execution_count": 338,
   "metadata": {
    "collapsed": true
   },
   "outputs": [],
   "source": [
    "def user_model(config, is_training):\n",
    "    batch_size = config.batch_size\n",
    "    num_steps = config.num_steps\n",
    "    embedding_size = config.embedding_size\n",
    "    hidden_size = config.hidden_size\n",
    "    num_items = config.num_items\n",
    "    num_users = config.num_users\n",
    "\n",
    "    place_x = tf.placeholder(shape=[batch_size, num_steps], dtype=tf.int32)\n",
    "    place_u = tf.placeholder(shape=[batch_size, 1], dtype=tf.int32)\n",
    "    place_y = tf.placeholder(shape=[batch_size, num_steps], dtype=tf.int32)\n",
    "\n",
    "    item_embedding = tf.get_variable(\"items\", [num_items, embedding_size], dtype=tf.float32)\n",
    "    item_inputs = tf.nn.embedding_lookup(item_embedding, place_x)\n",
    "    \n",
    "    user_embedding = tf.get_variable(\"users\", [num_items, embedding_size], dtype=tf.float32)\n",
    "    u_repeat = tf.tile(place_u, [1, num_steps])\n",
    "    user_inputs = tf.nn.embedding_lookup(user_embedding, u_repeat)\n",
    "\n",
    "    inputs = tf.concat([user_inputs, item_inputs], axis=2)\n",
    "    \n",
    "    output, initial_state, final_state = \\\n",
    "        rnn_model(inputs, hidden_size, config.num_layers, batch_size, num_steps, is_training)\n",
    "\n",
    "    W = tf.get_variable(\"W\", [hidden_size, num_items], dtype=tf.float32)\n",
    "    b = tf.get_variable(\"b\", [num_items], dtype=tf.float32)\n",
    "\n",
    "    logits = tf.nn.xw_plus_b(output, W, b)\n",
    "    logits = tf.reshape(logits, [batch_size, num_steps, num_items])\n",
    "\n",
    "    loss = tf.losses.sparse_softmax_cross_entropy(place_y, logits)\n",
    "    total_loss = tf.reduce_mean(loss)\n",
    "\n",
    "    tvars = tf.trainable_variables()\n",
    "    gradient = tf.gradients(total_loss, tvars)\n",
    "    clipped, _ = tf.clip_by_global_norm(gradient, config.max_grad_norm)\n",
    "    optimizer = tf.train.GradientDescentOptimizer(config.learning_rate)\n",
    "\n",
    "    global_step = tf.train.get_or_create_global_step()\n",
    "    train_op = optimizer.apply_gradients(zip(clipped, tvars), global_step=global_step)\n",
    "\n",
    "    out = {}\n",
    "    out['place_x'] = place_x\n",
    "    out['place_u'] = place_u\n",
    "    out['place_y'] = place_y\n",
    "    \n",
    "\n",
    "    out['logits'] = logits\n",
    "    out['initial_state'] = initial_state\n",
    "    out['final_state'] = final_state\n",
    "\n",
    "    out['total_loss'] = total_loss\n",
    "    out['train_op'] = train_op\n",
    "\n",
    "    return out"
   ]
  },
  {
   "cell_type": "code",
   "execution_count": 339,
   "metadata": {
    "scrolled": true
   },
   "outputs": [],
   "source": [
    "graph = tf.Graph()\n",
    "graph.seed = 1\n",
    "\n",
    "with graph.as_default():\n",
    "    initializer = tf.random_uniform_initializer(-config.init_scale, config.init_scale)\n",
    "\n",
    "    with tf.name_scope(\"Train\"):\n",
    "        with tf.variable_scope(\"Model\", reuse=None, initializer=initializer):\n",
    "            train_model = user_model(config, is_training=True)\n",
    "\n",
    "    with tf.name_scope(\"Valid\"):\n",
    "        with tf.variable_scope(\"Model\", reuse=True, initializer=initializer):\n",
    "            val_model = user_model(config_val, is_training=False)\n",
    "\n",
    "    init = tf.global_variables_initializer()\n",
    "\n",
    "session = tf.Session(config=None, graph=graph) \n",
    "session.run(init)"
   ]
  },
  {
   "cell_type": "code",
   "execution_count": 340,
   "metadata": {
    "collapsed": true
   },
   "outputs": [],
   "source": [
    "def user_model_epoch(session, model, X, U, Y, batch_size):\n",
    "    fetches = {\n",
    "        \"total_loss\": model['total_loss'],\n",
    "        \"final_state\": model['final_state'],\n",
    "        \"eval_op\": model['train_op']\n",
    "    }\n",
    "\n",
    "    num_steps = X.shape[1]\n",
    "    all_idx = np.arange(X.shape[0])\n",
    "    np.random.shuffle(all_idx)\n",
    "    batches = prepare_batches(all_idx, batch_size)\n",
    "\n",
    "    initial_state = session.run(model['initial_state'])\n",
    "    current_state = initial_state\n",
    "\n",
    "    progress = tqdm(total=len(batches))\n",
    "    for idx in batches:\n",
    "        if len(idx) < batch_size:\n",
    "            continue\n",
    "\n",
    "        feed_dict = {}\n",
    "        for i, (c, h) in enumerate(model['initial_state']):\n",
    "            feed_dict[c] = current_state[i].c\n",
    "            feed_dict[h] = current_state[i].h\n",
    "\n",
    "        feed_dict[model['place_x']] = X[idx]\n",
    "        feed_dict[model['place_y']] = Y[idx]\n",
    "        feed_dict[model['place_u']] = U[idx].reshape(-1, 1)\n",
    "\n",
    "        vals = session.run(fetches, feed_dict)\n",
    "        loss = vals[\"total_loss\"]\n",
    "        current_state = vals[\"final_state\"]\n",
    "\n",
    "        progress.update(1)\n",
    "        progress.set_description('%.3f' % loss)\n",
    "    progress.close()"
   ]
  },
  {
   "cell_type": "code",
   "execution_count": 341,
   "metadata": {},
   "outputs": [
    {
     "name": "stdout",
     "output_type": "stream",
     "text": [
      "\n"
     ]
    }
   ],
   "source": [
    "session = tf.Session(config=None, graph=graph) \n",
    "session.run(init)\n",
    "\n",
    "np.random.seed(0)\n",
    "\n",
    "user_model_epoch(session, train_model, X_train, U_train, Y_train, batch_size=config.batch_size)"
   ]
  },
  {
   "cell_type": "code",
   "execution_count": 342,
   "metadata": {},
   "outputs": [],
   "source": [
    "def generate_prediction_user_model(uid, indptr, items, model, k):\n",
    "    n_groups = len(uid)\n",
    "    n_items = len(items)\n",
    "\n",
    "    pred_all = np.zeros((n_items, k), dtype=np.int32)\n",
    "    initial_state = session.run(model['initial_state'])\n",
    "\n",
    "    fetches = {\n",
    "        \"logits\": model['logits'],\n",
    "        \"final_state\": model['final_state'],\n",
    "    }\n",
    "\n",
    "    for g in tqdm(range(n_groups)):    \n",
    "        start = indptr[g]\n",
    "        end = indptr[g+1]\n",
    "        u = uid[g]\n",
    "\n",
    "        current_state = initial_state\n",
    "\n",
    "        feed_dict = {}\n",
    "        feed_dict[model['place_u']] = np.array([[u]], dtype=np.int32)\n",
    "\n",
    "        for i, (c, h) in enumerate(model['initial_state']):\n",
    "            feed_dict[c] = current_state[i].c\n",
    "            feed_dict[h] = current_state[i].h\n",
    "\n",
    "        prev = np.array([[0]], dtype=np.int32)\n",
    "\n",
    "        for i in range(start, end):\n",
    "            feed_dict[model['place_x']] = prev\n",
    "\n",
    "            actual = items[i]\n",
    "            prev[0, 0] = actual\n",
    "\n",
    "            values = session.run(fetches, feed_dict)\n",
    "            current_state = values[\"final_state\"]\n",
    "\n",
    "            logits = values['logits'].reshape(-1)\n",
    "            pred = np.argpartition(-logits, k)[:k]\n",
    "            pred_all[i] = pred\n",
    "\n",
    "    return pred_all"
   ]
  },
  {
   "cell_type": "code",
   "execution_count": 324,
   "metadata": {
    "scrolled": false
   },
   "outputs": [
    {
     "data": {
      "text/plain": [
       "0.25254421346571515"
      ]
     },
     "execution_count": 324,
     "metadata": {},
     "output_type": "execute_result"
    }
   ],
   "source": [
    "pred_lstm = generate_prediction_user_model(uid_val, indptr_val, iid_val, val_model, k=5)\n",
    "accuracy_k(iid_val, pred_lstm)"
   ]
  },
  {
   "cell_type": "code",
   "execution_count": null,
   "metadata": {
    "collapsed": true
   },
   "outputs": [],
   "source": []
  }
 ],
 "metadata": {
  "anaconda-cloud": {},
  "kernelspec": {
   "display_name": "Python 3",
   "language": "python",
   "name": "python3"
  },
  "language_info": {
   "codemirror_mode": {
    "name": "ipython",
    "version": 3
   },
   "file_extension": ".py",
   "mimetype": "text/x-python",
   "name": "python",
   "nbconvert_exporter": "python",
   "pygments_lexer": "ipython3",
   "version": "3.8.8"
  }
 },
 "nbformat": 4,
 "nbformat_minor": 2
}
